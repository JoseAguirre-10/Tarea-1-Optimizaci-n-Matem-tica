{
  "nbformat": 4,
  "nbformat_minor": 0,
  "metadata": {
    "colab": {
      "provenance": [],
      "authorship_tag": "ABX9TyNfVFWBiD0HnSJXgl6aAHZF",
      "include_colab_link": true
    },
    "kernelspec": {
      "name": "python3",
      "display_name": "Python 3"
    },
    "language_info": {
      "name": "python"
    }
  },
  "cells": [
    {
      "cell_type": "markdown",
      "metadata": {
        "id": "view-in-github",
        "colab_type": "text"
      },
      "source": [
        "<a href=\"https://colab.research.google.com/github/JoseAguirre-10/Tarea-1-Optimizaci-n-Matem-tica/blob/main/P1_Continua.ipynb\" target=\"_parent\"><img src=\"https://colab.research.google.com/assets/colab-badge.svg\" alt=\"Open In Colab\"/></a>"
      ]
    },
    {
      "cell_type": "code",
      "execution_count": 9,
      "metadata": {
        "colab": {
          "base_uri": "https://localhost:8080/"
        },
        "id": "CEoq1nU0aaCN",
        "outputId": "65f41f89-f3c3-4810-8814-8bc30abca2c4"
      },
      "outputs": [
        {
          "output_type": "stream",
          "name": "stdout",
          "text": [
            "Requirement already satisfied: gurobipy in /usr/local/lib/python3.11/dist-packages (12.0.1)\n"
          ]
        }
      ],
      "source": [
        "!pip install gurobipy"
      ]
    },
    {
      "cell_type": "code",
      "source": [
        "import numpy as np #importamos la libreria de numpy para manejar matrices.\n",
        "import gurobipy as gp #importamos la libreria de gurobi para optimizar el problema.\n",
        "import math"
      ],
      "metadata": {
        "id": "q_Z5AoZBabs7"
      },
      "execution_count": 15,
      "outputs": []
    },
    {
      "cell_type": "code",
      "source": [
        "#definamos la matriz D de la siguiente manera:\n",
        "\n",
        "D = np.array([[4,6,5,9,17,4],[8,12,3,7,11,5],[6,8,2,10,15,7],[5,9,4,8,13,6],\n",
        " [7,11,3,12,8,10],[10,5,6,4,9,7]])\n",
        "print(D)\n",
        "np.shape(D) #para comprobar la dimensión de la matriz\n",
        "\n",
        "def f(d):\n",
        "    return 50000 * math.tanh(d - 5) + 50000\n",
        "\n",
        "# Matriz de costos C aplicando f a cada elemento de D\n",
        "C = np.vectorize(f)(D)\n",
        "\n",
        "\n",
        "print(D[0,0])"
      ],
      "metadata": {
        "colab": {
          "base_uri": "https://localhost:8080/"
        },
        "id": "yt8hINhhaebL",
        "outputId": "3d477c74-0d83-42fe-c394-4b0eae0bb423"
      },
      "execution_count": 16,
      "outputs": [
        {
          "output_type": "stream",
          "name": "stdout",
          "text": [
            "[[ 4  6  5  9 17  4]\n",
            " [ 8 12  3  7 11  5]\n",
            " [ 6  8  2 10 15  7]\n",
            " [ 5  9  4  8 13  6]\n",
            " [ 7 11  3 12  8 10]\n",
            " [10  5  6  4  9  7]]\n",
            "4\n"
          ]
        }
      ]
    },
    {
      "cell_type": "code",
      "source": [
        "#primero voy a sacar los esfuerzos que requiere cada robot para mover cada objeto:\n",
        "R1 = D[:,0]\n",
        "R2 = D[:,1]\n",
        "R3 = D[:,2]\n",
        "R4 = D[:,3]\n",
        "R5 = D[:,4]\n",
        "R6 = D[:,5]\n",
        "\n",
        "#ahora colocare todas las combinaciones posibles para cada robot donde cada robot se le asigna un solo objeto\n",
        "\n",
        "movimiento = [np.array([R1[a], R2[b], R3[c], R4[d], R5[e], R6[f]]) for a in range(len(R1)) for b in range(len(R2)) for c in range(len(R3))\n",
        "                  for d in range(len(R4)) for e in range(len(R5)) for f in range(len(R6))  if a != b and a != c and a != d\n",
        "                and a != e and a != f and b != c and b != d and b != e and b != f and c != d and c != e and c != f and d != e and d != f and e != f]\n",
        "\n",
        "                #ESTA CELDA LA VOY A BORRAR PORUQE NO LA USE, PERO LA DEJO SI TE SIRVE PARA ALGO EN OTRA PREGUNTA, LO QUE HACE ES SACAR TODAS LAS PERMUTACIONES POSIBLES\n",
        "\n",
        ""
      ],
      "metadata": {
        "id": "ff008nHialhP"
      },
      "execution_count": 17,
      "outputs": []
    },
    {
      "cell_type": "code",
      "source": [
        "#ahora usaremos gurobi para optimizar el problema:\n",
        "from gurobipy import*\n",
        "\n",
        "D = D = np.array([[4,6,5,9,17,4],[8,12,3,7,11,5],[6,8,2,10,15,7],[5,9,4,8,13,6],\n",
        " [7,11,3,12,8,10],[10,5,6,4,9,7]])\n",
        "\n",
        "\n",
        "n = D.shape[0] # numeros de elemento de elementos de objetos que coincide con el numero de robots\n",
        "\n",
        "model = Model(\"Robots_Trabajadores\")\n",
        "model.setParam('OutputFlag',0)\n",
        "\n",
        "#definamos las varaibles del modelos\n",
        "\n",
        "#como vamos a trabajar con variables binarias, se tiene que x_{i,j} toma valores {0,1} segun las condiciones colocadas en el informe.\n",
        "\n",
        "\n",
        "x = model.addVars(6, 6, lb=0, ub=1, vtype=GRB.CONTINUOUS, name=\"x\")\n",
        "\n",
        "tanh_D= np.tanh(D-5)\n",
        "\n",
        "model.update()\n",
        "#Definimos la función objetivo:\n",
        "\n",
        "model.setObjective(gp.quicksum(C[i, j] * x[i, j] for i in range(6) for j in range(6)), GRB.MINIMIZE)\n",
        "\n",
        "\n",
        "#restricciones:\n",
        "\n",
        "# Cada objeto debe asignarse totalmente\n",
        "for i in range(6):\n",
        "    model.addConstr(gp.quicksum(x[i, j] for j in range(6)) == 1)\n",
        "\n",
        "# Cada caja debe recibir exactamente un objeto\n",
        "for j in range(6):\n",
        "    model.addConstr(gp.quicksum(x[i, j] for i in range(6)) == 1)\n",
        "\n",
        "model.optimize()\n",
        "\n",
        "costo_final = 0\n",
        "for i in range(n):\n",
        "    for j in range(n):\n",
        "        if x[i, j].X > 0.5:\n",
        "            costo = 50000 * tanh_D[i, j] + 50000\n",
        "            costo_final += costo\n",
        "            print(f\"Robot {i} asignado a tarea {j} con costo {costo:.2f}\")\n",
        "\n",
        "print(f\"\\nCosto total de la asignación: {costo_final:.2f}\")"
      ],
      "metadata": {
        "colab": {
          "base_uri": "https://localhost:8080/"
        },
        "id": "8G1__tRWaqp6",
        "outputId": "e692f881-b0ad-44d8-8fd1-631d8c77befd"
      },
      "execution_count": 18,
      "outputs": [
        {
          "output_type": "stream",
          "name": "stdout",
          "text": [
            "Robot 0 asignado a tarea 0 con costo 11920.29\n",
            "Robot 1 asignado a tarea 5 con costo 50000.00\n",
            "Robot 2 asignado a tarea 2 con costo 247.26\n",
            "Robot 3 asignado a tarea 1 con costo 99966.46\n",
            "Robot 4 asignado a tarea 4 con costo 99752.74\n",
            "Robot 5 asignado a tarea 3 con costo 11920.29\n",
            "\n",
            "Costo total de la asignación: 273807.05\n"
          ]
        }
      ]
    }
  ]
}