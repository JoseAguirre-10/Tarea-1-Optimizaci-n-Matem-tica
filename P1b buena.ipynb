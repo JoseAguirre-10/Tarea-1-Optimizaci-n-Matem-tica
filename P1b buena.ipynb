{
  "nbformat": 4,
  "nbformat_minor": 0,
  "metadata": {
    "colab": {
      "provenance": [],
      "include_colab_link": true
    },
    "kernelspec": {
      "name": "python3",
      "display_name": "Python 3"
    },
    "language_info": {
      "name": "python"
    }
  },
  "cells": [
    {
      "cell_type": "markdown",
      "metadata": {
        "id": "view-in-github",
        "colab_type": "text"
      },
      "source": [
        "<a href=\"https://colab.research.google.com/github/JoseAguirre-10/Tarea-1-Optimizaci-n-Matem-tica/blob/main/P1b%20buena.ipynb\" target=\"_parent\"><img src=\"https://colab.research.google.com/assets/colab-badge.svg\" alt=\"Open In Colab\"/></a>"
      ]
    },
    {
      "cell_type": "code",
      "execution_count": 2,
      "metadata": {
        "colab": {
          "base_uri": "https://localhost:8080/"
        },
        "id": "KUow8j9eKPN5",
        "outputId": "2e82121f-6147-4e32-a1a0-c4bccc68b327"
      },
      "outputs": [
        {
          "output_type": "stream",
          "name": "stdout",
          "text": [
            "Collecting gurobipy\n",
            "  Downloading gurobipy-12.0.1-cp311-cp311-manylinux2014_x86_64.manylinux_2_17_x86_64.whl.metadata (16 kB)\n",
            "Downloading gurobipy-12.0.1-cp311-cp311-manylinux2014_x86_64.manylinux_2_17_x86_64.whl (14.4 MB)\n",
            "\u001b[2K   \u001b[90m━━━━━━━━━━━━━━━━━━━━━━━━━━━━━━━━━━━━━━━━\u001b[0m \u001b[32m14.4/14.4 MB\u001b[0m \u001b[31m63.9 MB/s\u001b[0m eta \u001b[36m0:00:00\u001b[0m\n",
            "\u001b[?25hInstalling collected packages: gurobipy\n",
            "Successfully installed gurobipy-12.0.1\n"
          ]
        }
      ],
      "source": [
        "!pip install gurobipy\n",
        "import numpy as np #importamos la libreria de numpy para manejar matrices."
      ]
    },
    {
      "cell_type": "code",
      "source": [
        "#definamos la matriz D de la siguiente manera:\n",
        "\n",
        "D = np.array([[4,6,5,9,17,4],[8,12,3,7,11,5],[6,8,2,10,15,7],[5,9,4,8,13,6],\n",
        " [7,11,3,12,8,10],[10,5,6,4,9,7]])\n",
        "print(D)\n",
        "np.shape(D) #para comprobar la dimensión de la matriz\n",
        "\n",
        "\n",
        "print(D[0,0])"
      ],
      "metadata": {
        "colab": {
          "base_uri": "https://localhost:8080/"
        },
        "id": "8epSbUGJKQO4",
        "outputId": "3dddb291-a539-4468-b85f-717a22ff5fa3"
      },
      "execution_count": 4,
      "outputs": [
        {
          "output_type": "stream",
          "name": "stdout",
          "text": [
            "[[ 4  6  5  9 17  4]\n",
            " [ 8 12  3  7 11  5]\n",
            " [ 6  8  2 10 15  7]\n",
            " [ 5  9  4  8 13  6]\n",
            " [ 7 11  3 12  8 10]\n",
            " [10  5  6  4  9  7]]\n",
            "4\n"
          ]
        }
      ]
    },
    {
      "cell_type": "code",
      "source": [
        "#primero voy a sacar los esfuerzos que requiere cada robot para mover cada objeto:\n",
        "R1 = D[:,0]\n",
        "R2 = D[:,1]\n",
        "R3 = D[:,2]\n",
        "R4 = D[:,3]\n",
        "R5 = D[:,4]\n",
        "R6 = D[:,5]\n"
      ],
      "metadata": {
        "id": "bAhB6Tf3KUWX"
      },
      "execution_count": 5,
      "outputs": []
    },
    {
      "cell_type": "code",
      "source": [
        "#ahora usaremos gurobi para optimizar el problema:\n",
        "from gurobipy import*\n",
        "\n",
        "D = D = np.array([[4,6,5,9,17,4],[8,12,3,7,11,5],[6,8,2,10,15,7],[5,9,4,8,13,6],\n",
        " [7,11,3,12,8,10],[10,5,6,4,9,7]])\n",
        "\n",
        "\n",
        "n = D.shape[0] # numeros de elemento de elementos de objetos que coincide con el numero de robots\n",
        "\n",
        "model = Model(\"Robots_Trabajadores\")\n",
        "model.setParam('OutputFlag',0)\n",
        "\n",
        "#definamos las varaibles del modelos\n",
        "\n",
        "#como vamos a trabajar con variables binarias, se tiene que x_{i,j} toma valores {0,1} segun las condiciones colocadas en el informe.\n",
        "\n",
        "x = model.addVars(n,n, vtype=GRB.CONTINUOUS,lb=0, ub=1, name = 'x')\n",
        "\n",
        "tanh_D= np.tanh(D-5)\n",
        "\n",
        "model.update()\n",
        "#Definimos la función objetivo:\n",
        "\n",
        "model.setObjective(quicksum(x[i,j]*(50000*tanh_D[i,j] + 50000) for i in range(n) for j in range(n)), GRB.MINIMIZE)\n",
        "\n",
        "\n",
        "#restricciones:\n",
        "\n",
        "for i in range(n):\n",
        "  model.addConstr(quicksum(x[i,j] for j in range(n)) == 1, name = f'restriccion_robot_{i}')\n",
        "\n",
        "for j in range(n):\n",
        "  model.addConstr(quicksum(x[i,j] for i in range(n)) == 1, name = f'restriccion_robot_{j}')\n",
        "\n",
        "model.optimize()\n",
        "\n",
        "costo_final = 0\n",
        "for i in range(n):\n",
        "    for j in range(n):\n",
        "        if x[i, j].X > 0.5:\n",
        "            costo = 50000 * tanh_D[i, j] + 50000\n",
        "            costo_final += costo\n",
        "\n",
        "            print(f\"Robot {i+1} asignado a objeto {j+1} con costo {costo:.2f}\")\n",
        "\n",
        "print(f\"\\nCosto total de la asignación: {costo_final:.2f}\")\n",
        "\n",
        "Valores = np.array([[11920.29, 50000, 247.26, 99966.46, 99752.74, 11920.29]])"
      ],
      "metadata": {
        "colab": {
          "base_uri": "https://localhost:8080/"
        },
        "id": "ZqiSvEOHKXfP",
        "outputId": "a6e98ead-37ac-44dd-b6cb-c3433c61fb19"
      },
      "execution_count": 6,
      "outputs": [
        {
          "output_type": "stream",
          "name": "stdout",
          "text": [
            "Restricted license - for non-production use only - expires 2026-11-23\n",
            "Robot 1 asignado a objeto 1 con costo 11920.29\n",
            "Robot 2 asignado a objeto 6 con costo 50000.00\n",
            "Robot 3 asignado a objeto 3 con costo 247.26\n",
            "Robot 4 asignado a objeto 2 con costo 99966.46\n",
            "Robot 5 asignado a objeto 5 con costo 99752.74\n",
            "Robot 6 asignado a objeto 4 con costo 11920.29\n",
            "\n",
            "Costo total de la asignación: 273807.05\n"
          ]
        }
      ]
    },
    {
      "cell_type": "code",
      "source": [
        "import gurobipy as gp\n",
        "from gurobipy import GRB\n",
        "import numpy as np\n",
        "\n",
        "def costo(d):\n",
        "    return 50000 * np.tanh(d - 5) + 50000\n",
        "\n",
        "# Matrices de esfuerzo para las cintas\n",
        "D1 = np.array([  #esfuerzo para llegar a las cintas por robot\n",
        "    [1, 1, 5, 1, 1, 2],\n",
        "    [2, 1, 5, 1, 2, 1]\n",
        "])\n",
        "\n",
        "D2 = np.array([  #esfuerzo para llegar a las cajas, dado que usó la cinta\n",
        "    [1, 1, 4, 1, 2, 1],\n",
        "    [1, 2, 4, 1, 1, 1]\n",
        "])\n",
        "# Tarifa fija por robot que usó la cinta\n",
        "tarifa = 10000\n",
        "# Número de cintas\n",
        "k = D1.shape[0]\n",
        "\n",
        "# Crear el modelo\n",
        "m1 = gp.Model(\"AsignacionRobotsCintas\")\n",
        "\n",
        "# Variables binarias\n",
        "#x define que algún robot lleve el objeto i a la caja j\n",
        "x1 = m1.addVars(n, n, vtype=GRB.CONTINUOUS, name=\"x_directo\")\n",
        "#y define el robot que lleva el objeto, qué cinta usa y a qué caja lo lleva\n",
        "y = m1.addVars(n, n, vtype=GRB.CONTINUOUS, name=\"y_cinta\")\n",
        "# Función objetivo\n",
        "\n",
        "#calcula los costos en función de la variable X para el camino directo. Va casilla por casilla evaluando\n",
        "CostosD = gp.quicksum(x1[i,j] * costo(D[i][j]) for i in range(n) for j in range(n))\n",
        "#calcula el costo de por cinta, sumando el costo del viaje inicial con el final, más la tarifa\n",
        "costosC = gp.quicksum(y[i,j] * (min(costo(D1[0][i]) + costo(D2[0][j]),costo(D1[1][i]) + costo(D2[1][j])) + tarifa) for i in range(n) for j in range(n))\n",
        "#al ser continua, considera el caso en que tome la cinta y también camine, pero en el sentido práctico esa opción raramente se presentaría\n",
        "m1.setObjective(CostosD + costosC, GRB.MINIMIZE)\n",
        "\n",
        "# restricciones\n",
        "# a cada robot asigna exactamente un objeto\n",
        "for i in range(n):\n",
        "    m1.addConstr(gp.quicksum(x1[i,j] + y[i,j] for j in range(n)) == 1)\n",
        "\n",
        "\n",
        "# Cada caja recibe exactamente un objeto (puede ser por la cinta o caminando)\n",
        "for j in range(n):\n",
        "    m1.addConstr(gp.quicksum(x1[i,j] + y[i,j] for i in range(n)) == 1)\n",
        "\n",
        "# Optimizar\n",
        "m1.optimize()\n",
        "\n",
        "# Mostrar resultados\n",
        "if m1.status == GRB.OPTIMAL:\n",
        "    for j in range(n):\n",
        "        for i in range(n):\n",
        "          # Asignaciones directas (sin cintas)\n",
        "            if x1[i,j].X > 0.5:\n",
        "                print(f\"Robot {i+1} tomó el objeto {i+1} y lo llevó directamente a la caja {j+1}. Costo: {costo(D[i,j]):.2f}\")\n",
        "            if y[i,j].X > 0.5:\n",
        "                costo_cinta1 = costo(D1[0,i]) + costo(D2[0,j]) + tarifa\n",
        "                costo_cinta2 = costo(D1[1,i]) + costo(D2[1,j]) + tarifa\n",
        "                mejor_cinta = 1 if costo_cinta1 < costo_cinta2 else 2\n",
        "                print(f\"Robot {i+1} tomó el objeto {i+1} y lo llevó a la caja {j+1} en la cinta: {mejor_cinta}, Costo: {min(costo_cinta1, costo_cinta2):.2f})\")\n",
        "    print(f\"\\nCosto total mínimo: {m1.ObjVal:.2f}\")\n",
        "else:\n",
        "    print(\"No se encontró solución óptima.\")"
      ],
      "metadata": {
        "colab": {
          "base_uri": "https://localhost:8080/"
        },
        "id": "-c5CbTIPRBYW",
        "outputId": "e9081d04-40ae-4bf4-e56f-a23c52651dff"
      },
      "execution_count": 11,
      "outputs": [
        {
          "output_type": "stream",
          "name": "stdout",
          "text": [
            "Gurobi Optimizer version 12.0.1 build v12.0.1rc0 (linux64 - \"Ubuntu 22.04.4 LTS\")\n",
            "\n",
            "CPU model: Intel(R) Xeon(R) CPU @ 2.20GHz, instruction set [SSE2|AVX|AVX2]\n",
            "Thread count: 1 physical cores, 2 logical processors, using up to 2 threads\n",
            "\n",
            "Optimize a model with 12 rows, 72 columns and 144 nonzeros\n",
            "Model fingerprint: 0x4891d61b\n",
            "Coefficient statistics:\n",
            "  Matrix range     [1e+00, 1e+00]\n",
            "  Objective range  [2e+02, 1e+05]\n",
            "  Bounds range     [0e+00, 0e+00]\n",
            "  RHS range        [1e+00, 1e+00]\n",
            "Presolve removed 0 rows and 36 columns\n",
            "Presolve time: 0.01s\n",
            "Presolved: 12 rows, 36 columns, 72 nonzeros\n",
            "\n",
            "Iteration    Objective       Primal Inf.    Dual Inf.      Time\n",
            "       0    3.4045714e+04   6.000000e+00   0.000000e+00      0s\n",
            "       4    5.0582612e+04   0.000000e+00   0.000000e+00      0s\n",
            "\n",
            "Solved in 4 iterations and 0.01 seconds (0.00 work units)\n",
            "Optimal objective  5.058261245e+04\n",
            "Robot 5 tomó el objeto 5 y lo llevó a la caja 1 en la cinta: 1, Costo: 10067.07)\n",
            "Robot 2 tomó el objeto 2 y lo llevó a la caja 2 en la cinta: 1, Costo: 10067.07)\n",
            "Robot 3 tomó el objeto 3 y lo llevó directamente a la caja 3. Costo: 247.26\n",
            "Robot 1 tomó el objeto 1 y lo llevó a la caja 4 en la cinta: 1, Costo: 10067.07)\n",
            "Robot 4 tomó el objeto 4 y lo llevó a la caja 5 en la cinta: 2, Costo: 10067.07)\n",
            "Robot 6 tomó el objeto 6 y lo llevó a la caja 6 en la cinta: 2, Costo: 10067.07)\n",
            "\n",
            "Costo total mínimo: 50582.61\n"
          ]
        }
      ]
    },
    {
      "cell_type": "code",
      "source": [
        "#P1.C\n",
        "\n",
        "\n",
        "costo_extra = 2000  # Nuevo costo adicional\n",
        "max_cintas = 5       #Máximo de robots que pueden usar las cintas\n",
        "\n",
        "# Modelo\n",
        "m2 = gp.Model(\"AsignacionRobotsCintas\")\n",
        "\n",
        "# Variables binarias\n",
        "#x define que algún robot lleve el objeto i a la caja j\n",
        "x = m2.addVars(n, n, vtype=GRB.CONTINUOUS, name=\"x_directo\")\n",
        "#y define el robot que lleva el objeto, qué cinta usa y a qué caja lo lleva\n",
        "y = m2.addVars(n, n, vtype=GRB.CONTINUOUS, name=\"y_cinta\")\n",
        "# Función objetivo\n",
        "\n",
        "#calcula los costos en función de la variable X para el camino directo. Va casilla por casilla evaluando\n",
        "CostosD = gp.quicksum(x[i,j] * costo(D[i][j]) for i in range(n) for j in range(n))\n",
        "#calcula el costo de por cinta, sumando el costo del viaje inicial con el final, más la tarifa\n",
        "costosC = gp.quicksum(y[i,j] * (min(costo(D1[0][i]) + costo(D2[0][j]),costo(D1[0][i]) + costo(D2[0][j]) ) + tarifa + costo_extra) for i in range(n) for j in range(n))\n",
        "#al ser continua, considera el caso en que tome la cinta y también camine, pero en el sentido práctico esa opción raramente se presentaría\n",
        "m2.setObjective(CostosD + costosC, GRB.MINIMIZE)\n",
        "\n",
        "# restricciones\n",
        "# a cada robot asigna exactamente un objeto\n",
        "for i in range(n):\n",
        "    m2.addConstr(gp.quicksum(x[i,j] + y[i,j] for j in range(n)) == 1)\n",
        "\n",
        "\n",
        "# Cada caja recibe exactamente un objeto (puede ser por la cinta o caminando)\n",
        "for j in range(n):\n",
        "    m2.addConstr(gp.quicksum(x[i,j] + y[i,j] for i in range(n)) == 1)\n",
        "\n",
        "m2.addConstr(quicksum(y[i,j] for i in range(n) for j in range(n)) <= max_cintas) #la cantidad de robots que usan cinta debe ser menor o igual a 5\n",
        "\n",
        "# Optimizar\n",
        "m2.optimize()\n",
        "\n",
        "# Mostrar resultados\n",
        "if m2.status == GRB.OPTIMAL:\n",
        "    # Asignaciones directas (sin cintas)\n",
        "    for j in range(n):\n",
        "        for i in range(n):\n",
        "          # Asignaciones directas (sin cintas)\n",
        "            if x[i,j].X > 0.5:\n",
        "                print(f\"Robot {i+1} tomó el objeto {i+1} y lo llevó directamente a la caja {j+1}. Costo: {costo(D[i,j]):.2f}\")\n",
        "            if y[i,j].X > 0.5:\n",
        "                costo_cinta1 = costo(D1[0,i]) + costo(D2[0,j]) + tarifa + costo_extra\n",
        "                costo_cinta2 = costo(D1[1,i]) + costo(D2[1,j]) + tarifa + costo_extra\n",
        "                mejor_cinta = 1 if costo_cinta1 < costo_cinta2 else 2\n",
        "                print(f\"Robot {i+1} tomó el objeto {i+1} y lo llevó a la caja {j+1} en la cinta: {mejor_cinta}, Costo: {min(costo_cinta1, costo_cinta2):.2f})\")\n",
        "    print(f\"\\nCosto total mínimo: {m2.ObjVal:.2f}\")\n"
      ],
      "metadata": {
        "colab": {
          "base_uri": "https://localhost:8080/"
        },
        "id": "4t8J9HeF_n0w",
        "outputId": "2701627a-7b07-47c0-b95f-9b19e4c48ab8"
      },
      "execution_count": 8,
      "outputs": [
        {
          "output_type": "stream",
          "name": "stdout",
          "text": [
            "Gurobi Optimizer version 12.0.1 build v12.0.1rc0 (linux64 - \"Ubuntu 22.04.4 LTS\")\n",
            "\n",
            "CPU model: Intel(R) Xeon(R) CPU @ 2.20GHz, instruction set [SSE2|AVX|AVX2]\n",
            "Thread count: 1 physical cores, 2 logical processors, using up to 2 threads\n",
            "\n",
            "Optimize a model with 13 rows, 72 columns and 180 nonzeros\n",
            "Model fingerprint: 0xbcc056a5\n",
            "Coefficient statistics:\n",
            "  Matrix range     [1e+00, 1e+00]\n",
            "  Objective range  [2e+02, 1e+05]\n",
            "  Bounds range     [0e+00, 0e+00]\n",
            "  RHS range        [1e+00, 5e+00]\n",
            "Presolve time: 0.01s\n",
            "Presolved: 13 rows, 72 columns, 180 nonzeros\n",
            "\n",
            "Iteration    Objective       Primal Inf.    Dual Inf.      Time\n",
            "       0    3.9605381e+04   6.000000e+00   0.000000e+00      0s\n",
            "       6    6.0502784e+04   0.000000e+00   0.000000e+00      0s\n",
            "\n",
            "Solved in 6 iterations and 0.01 seconds (0.00 work units)\n",
            "Optimal objective  6.050278410e+04\n",
            "Robot 5 tomó el objeto 5 y lo llevó a la caja 1 en la cinta: 1, Costo: 12067.07)\n",
            "Robot 2 tomó el objeto 2 y lo llevó a la caja 2 en la cinta: 1, Costo: 12067.07)\n",
            "Robot 3 tomó el objeto 3 y lo llevó directamente a la caja 3. Costo: 247.26\n",
            "Robot 6 tomó el objeto 6 y lo llevó directamente a la caja 4. Costo: 11920.29\n",
            "Robot 4 tomó el objeto 4 y lo llevó a la caja 5 en la cinta: 2, Costo: 12067.07)\n",
            "Robot 1 tomó el objeto 1 y lo llevó directamente a la caja 6. Costo: 11920.29\n",
            "\n",
            "Costo total mínimo: 60502.78\n"
          ]
        }
      ]
    }
  ]
}