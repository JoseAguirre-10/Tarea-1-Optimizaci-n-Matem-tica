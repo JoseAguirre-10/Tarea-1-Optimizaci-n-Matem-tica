{
  "nbformat": 4,
  "nbformat_minor": 0,
  "metadata": {
    "colab": {
      "provenance": [],
      "authorship_tag": "ABX9TyOCORFN4hQ8fEw1exvtxkIW",
      "include_colab_link": true
    },
    "kernelspec": {
      "name": "python3",
      "display_name": "Python 3"
    },
    "language_info": {
      "name": "python"
    }
  },
  "cells": [
    {
      "cell_type": "markdown",
      "metadata": {
        "id": "view-in-github",
        "colab_type": "text"
      },
      "source": [
        "<a href=\"https://colab.research.google.com/github/JoseAguirre-10/Tarea-1-Optimizaci-n-Matem-tica/blob/main/P1B.ipynb\" target=\"_parent\"><img src=\"https://colab.research.google.com/assets/colab-badge.svg\" alt=\"Open In Colab\"/></a>"
      ]
    },
    {
      "cell_type": "code",
      "source": [
        "!pip install gurobipy\n",
        "import numpy as np #importamos la libreria de numpy para manejar matrices."
      ],
      "metadata": {
        "colab": {
          "base_uri": "https://localhost:8080/"
        },
        "id": "dIid1SFKQQI-",
        "outputId": "63706351-1574-4686-f134-2ec7a25b520f"
      },
      "execution_count": 7,
      "outputs": [
        {
          "output_type": "stream",
          "name": "stdout",
          "text": [
            "Collecting gurobipy\n",
            "  Downloading gurobipy-12.0.1-cp311-cp311-manylinux2014_x86_64.manylinux_2_17_x86_64.whl.metadata (16 kB)\n",
            "Downloading gurobipy-12.0.1-cp311-cp311-manylinux2014_x86_64.manylinux_2_17_x86_64.whl (14.4 MB)\n",
            "\u001b[2K   \u001b[90m━━━━━━━━━━━━━━━━━━━━━━━━━━━━━━━━━━━━━━━━\u001b[0m \u001b[32m14.4/14.4 MB\u001b[0m \u001b[31m106.2 MB/s\u001b[0m eta \u001b[36m0:00:00\u001b[0m\n",
            "\u001b[?25hInstalling collected packages: gurobipy\n",
            "Successfully installed gurobipy-12.0.1\n"
          ]
        }
      ]
    },
    {
      "cell_type": "code",
      "execution_count": 8,
      "metadata": {
        "colab": {
          "base_uri": "https://localhost:8080/"
        },
        "id": "Nk1q09ynQKPl",
        "outputId": "d8e7d05d-f488-4400-b0ae-c1bd355bdf56"
      },
      "outputs": [
        {
          "output_type": "stream",
          "name": "stdout",
          "text": [
            "[[ 4  6  5  9 17  4]\n",
            " [ 8 12  3  7 11  5]\n",
            " [ 6  8  2 10 15  7]\n",
            " [ 5  9  4  8 13  6]\n",
            " [ 7 11  3 12  8 10]\n",
            " [10  5  6  4  9  7]]\n",
            "4\n"
          ]
        }
      ],
      "source": [
        "#definamos la matriz D de la siguiente manera:\n",
        "\n",
        "D = np.array([[4,6,5,9,17,4],[8,12,3,7,11,5],[6,8,2,10,15,7],[5,9,4,8,13,6],\n",
        " [7,11,3,12,8,10],[10,5,6,4,9,7]])\n",
        "print(D)\n",
        "np.shape(D) #para comprobar la dimensión de la matriz\n",
        "\n",
        "\n",
        "print(D[0,0])"
      ]
    },
    {
      "cell_type": "code",
      "source": [
        "#primero voy a sacar los esfuerzos que requiere cada robot para mover cada objeto:\n",
        "R1 = D[:,0]\n",
        "R2 = D[:,1]\n",
        "R3 = D[:,2]\n",
        "R4 = D[:,3]\n",
        "R5 = D[:,4]\n",
        "R6 = D[:,5]\n",
        ""
      ],
      "metadata": {
        "id": "yBgBMEOJQMmL"
      },
      "execution_count": 9,
      "outputs": []
    },
    {
      "cell_type": "code",
      "source": [
        "#ahora usaremos gurobi para optimizar el problema:\n",
        "from gurobipy import*\n",
        "\n",
        "D = D = np.array([[4,6,5,9,17,4],[8,12,3,7,11,5],[6,8,2,10,15,7],[5,9,4,8,13,6],\n",
        " [7,11,3,12,8,10],[10,5,6,4,9,7]])\n",
        "\n",
        "\n",
        "n = D.shape[0] # numeros de elemento de elementos de objetos que coincide con el numero de robots\n",
        "\n",
        "model = Model(\"Robots_Trabajadores\")\n",
        "model.setParam('OutputFlag',0)\n",
        "\n",
        "#definamos las varaibles del modelos\n",
        "\n",
        "#como vamos a trabajar con variables binarias, se tiene que x_{i,j} toma valores {0,1} segun las condiciones colocadas en el informe.\n",
        "\n",
        "x = model.addVars(n,n, vtype=GRB.CONTINUOUS,lb=0, ub=1, name = 'x')\n",
        "\n",
        "tanh_D= np.tanh(D-5)\n",
        "\n",
        "model.update()\n",
        "#Definimos la función objetivo:\n",
        "\n",
        "model.setObjective(quicksum(x[i,j]*(50000*tanh_D[i,j] + 50000) for i in range(n) for j in range(n)), GRB.MINIMIZE)\n",
        "\n",
        "\n",
        "#restricciones:\n",
        "\n",
        "for i in range(n):\n",
        "  model.addConstr(quicksum(x[i,j] for j in range(n)) == 1, name = f'restriccion_robot_{i}')\n",
        "\n",
        "for j in range(n):\n",
        "  model.addConstr(quicksum(x[i,j] for i in range(n)) == 1, name = f'restriccion_robot_{j}')\n",
        "\n",
        "model.optimize()\n",
        "\n",
        "costo_final = 0\n",
        "for i in range(n):\n",
        "    for j in range(n):\n",
        "        if x[i, j].X > 0.5:\n",
        "            costo = 50000 * tanh_D[i, j] + 50000\n",
        "            costo_final += costo\n",
        "\n",
        "            print(f\"Robot {i+1} asignado a objeto {j+1} con costo {costo:.2f}\")\n",
        "\n",
        "print(f\"\\nCosto total de la asignación: {costo_final:.2f}\")\n",
        "\n",
        "Valores = np.array([[11920.29, 50000, 247.26, 99966.46, 99752.74, 11920.29]])"
      ],
      "metadata": {
        "colab": {
          "base_uri": "https://localhost:8080/"
        },
        "id": "Rr3-ce8NQZmA",
        "outputId": "9009fca1-8943-438f-83f6-43fa5646c092"
      },
      "execution_count": 13,
      "outputs": [
        {
          "output_type": "stream",
          "name": "stdout",
          "text": [
            "Robot 1 asignado a objeto 1 con costo 11920.29\n",
            "Robot 2 asignado a objeto 6 con costo 50000.00\n",
            "Robot 3 asignado a objeto 3 con costo 247.26\n",
            "Robot 4 asignado a objeto 2 con costo 99966.46\n",
            "Robot 5 asignado a objeto 5 con costo 99752.74\n",
            "Robot 6 asignado a objeto 4 con costo 11920.29\n",
            "\n",
            "Costo total de la asignación: 273807.05\n"
          ]
        }
      ]
    },
    {
      "cell_type": "code",
      "source": [
        "#TA MALOOOOOOOOOOOOOOOOOOOOOo\n",
        "\n",
        "#hay que considerar también la variable de los robots: cada uno lleva a un objeto distinto\n",
        "\n",
        "import gurobipy as gp\n",
        "from gurobipy import GRB\n",
        "import numpy as np\n",
        "\n",
        "# Definir la función de costo\n",
        "def costo(d):\n",
        "    return 50000 * np.tanh(d - 5) + 50000\n",
        "\n",
        "# Datos de la parte b)\n",
        "D1 = np.array([\n",
        "    [1, 1, 5, 1, 1, 2],\n",
        "    [2, 1, 5, 1, 2, 1]\n",
        "])\n",
        "\n",
        "D2 = np.array([\n",
        "    [1, 1, 4, 1, 2, 1],\n",
        "    [1, 2, 4, 1, 1, 1]\n",
        "])\n",
        "\n",
        "tarifa = 10000\n",
        "\n",
        "#genera una matriz de costos en donde para cada asignación de caja/objeto, asigna el costo mínimo entra las cintas y caminar.\n",
        "n = D.shape[0]  # Número de objetos/cajas\n",
        "C = np.zeros((n, n))\n",
        "\n",
        "for i in range(n):\n",
        "    for j in range(n):\n",
        "        # Costo si es que camina\n",
        "        costo1 = costo(D[i][j])\n",
        "\n",
        "       #camina 2 veces, por lo tanto paga por la llegada como por la salida el esfuerzo\n",
        "       #costo si es que usa la cinta 1\n",
        "        costo2 = costo(D1[0][i]) + costo(D2[0][j]) + tarifa\n",
        "        # Costo si es que usa la cinta 2\n",
        "        costo3 = costo(D1[0][i]) + costo(D2[0][j]) + tarifa\n",
        "        # Tomar el mínimo entre los 3 costos\n",
        "        C[i][j] = min(costo_directo, costo_cinta1, costo_cinta2)\n",
        "\n",
        "#creación del nuevo modelo\n",
        "m1 = gp.Model(\"AsignacionConCintas\")\n",
        "\n",
        "# Variable que decide qué camino tomar\n",
        "x = m1.addVars(n, n, vtype=GRB.CONTINUOUS, lb=0, ub=1, name=\"x\")\n",
        "\n",
        "# función objetivo\n",
        "m1.setObjective(gp.quicksum(C[i][j] * x[i,j] for i in range(n) for j in range(n)), GRB.MINIMIZE)\n",
        "\n",
        "# Restriccion que cada objeto se asigna a exactamente una caja\n",
        "for i in range(n):\n",
        "    m1.addConstr(gp.quicksum(x[i,j] for j in range(n)) == 1)\n",
        "\n",
        "# restricciones qye cada caja recibe exactamente un objeto\n",
        "for j in range(n):\n",
        "    m1.addConstr(gp.quicksum(x[i,j] for i in range(n)) == 1)\n",
        "\n",
        "# Optimizar\n",
        "m1.optimize()\n",
        "\n",
        "# Mostrar resultados\n",
        "if m1.status == GRB.OPTIMAL:\n",
        "    print(\"Asignación óptima encontrada:\")\n",
        "    for i in range(n):\n",
        "        for j in range(n):\n",
        "            if x[i,j].X > 0.5:  # Considerar asignaciones significativas\n",
        "                print(f\"Objeto {i+1} asignado a Caja {j+1} con costo {C[i][j]:.2f}\")\n",
        "    print(f\"Costo total: {m1.ObjVal:.2f}\")\n",
        "else:\n",
        "    print(\"No se encontró solución óptima.\")"
      ],
      "metadata": {
        "colab": {
          "base_uri": "https://localhost:8080/"
        },
        "id": "yaQXsGJORkq3",
        "outputId": "a3b95c5f-b1ae-49ae-e149-f5a4f82e3f1b"
      },
      "execution_count": 15,
      "outputs": [
        {
          "output_type": "stream",
          "name": "stdout",
          "text": [
            "Gurobi Optimizer version 12.0.1 build v12.0.1rc0 (linux64 - \"Ubuntu 22.04.4 LTS\")\n",
            "\n",
            "CPU model: Intel(R) Xeon(R) CPU @ 2.20GHz, instruction set [SSE2|AVX|AVX2]\n",
            "Thread count: 1 physical cores, 2 logical processors, using up to 2 threads\n",
            "\n",
            "Optimize a model with 12 rows, 36 columns and 72 nonzeros\n",
            "Model fingerprint: 0x470d1249\n",
            "Coefficient statistics:\n",
            "  Matrix range     [1e+00, 1e+00]\n",
            "  Objective range  [1e+04, 1e+04]\n",
            "  Bounds range     [1e+00, 1e+00]\n",
            "  RHS range        [1e+00, 1e+00]\n",
            "Presolve time: 0.01s\n",
            "Presolved: 12 rows, 36 columns, 72 nonzeros\n",
            "\n",
            "Iteration    Objective       Primal Inf.    Dual Inf.      Time\n",
            "       0    6.1483574e+04   4.000000e+00   0.000000e+00      0s\n",
            "      10    6.1483574e+04   0.000000e+00   0.000000e+00      0s\n",
            "\n",
            "Solved in 10 iterations and 0.01 seconds (0.00 work units)\n",
            "Optimal objective  6.148357389e+04\n",
            "Asignación óptima encontrada:\n",
            "Objeto 1 asignado a Caja 6 con costo 10247.26\n",
            "Objeto 2 asignado a Caja 5 con costo 10247.26\n",
            "Objeto 3 asignado a Caja 4 con costo 10247.26\n",
            "Objeto 4 asignado a Caja 3 con costo 10247.26\n",
            "Objeto 5 asignado a Caja 2 con costo 10247.26\n",
            "Objeto 6 asignado a Caja 1 con costo 10247.26\n",
            "Costo total: 61483.57\n"
          ]
        }
      ]
    },
    {
      "cell_type": "code",
      "source": [
        "#más propensa a estar buena\n",
        "\n",
        "import gurobipy as gp\n",
        "from gurobipy import GRB\n",
        "import numpy as np\n",
        "\n",
        "def costo(d):\n",
        "    return 50000 * np.tanh(d - 5) + 50000\n",
        "\n",
        "D1 = np.array([  # Esfuerzo desde objeto a cinta (cinta k, robot i)\n",
        "    [1, 1, 5, 1, 1, 2],\n",
        "    [2, 1, 5, 1, 2, 1]\n",
        "])\n",
        "\n",
        "D2 = np.array([  # Esfuerzo desde cinta a caja (cinta k, caja j)\n",
        "    [1, 1, 4, 1, 2, 1],\n",
        "    [1, 2, 4, 1, 1, 1]\n",
        "])\n",
        "\n",
        "tarifa_cintas = 10000\n",
        "n = D.shape[0]  # Número de robots/objetos/cajas\n",
        "k = D1.shape[0]  # Número de cintas (2)\n",
        "\n",
        "# Modelo\n",
        "model = gp.Model(\"AsignacionRobotsCintas_Continua\")\n",
        "\n",
        "# Variables continuas (0 ≤ x, y ≤ 1)\n",
        "x = model.addVars(n, n, vtype=GRB.CONTINUOUS, lb=0, ub=1, name=\"x_directo\")\n",
        "y = model.addVars(k, n, n, vtype=GRB.CONTINUOUS, lb=0, ub=1, name=\"y_cinta\")\n",
        "\n",
        "# Función objetivo\n",
        "costos_directos = gp.quicksum(x[i,j] * costo(D[i][j]) for i in range(n) for j in range(n))\n",
        "costos_cintas = gp.quicksum(y[k,i,j] * (costo(D1[k][i] + D2[k][j]) + tarifa_cintas) for k in range(k) for i in range(n) for j in range(n))\n",
        "model.setObjective(costos_directos + costos_cintas, GRB.MINIMIZE)\n",
        "\n",
        "# Restricciones\n",
        "# 1. Cada robot lleva a lo sumo un objeto (asignación única)\n",
        "for i in range(n):\n",
        "    model.addConstr(\n",
        "        gp.quicksum(x[i,j] for j in range(n)) +\n",
        "        gp.quicksum(y[k,i,j] for k in range(k) for j in range(n)) <= 1,\n",
        "        name=f\"robot_{i}_solo_un_objeto\"\n",
        "    )\n",
        "\n",
        "# 2. Cada objeto se asigna exactamente una vez (a un robot)\n",
        "for j in range(n):\n",
        "    model.addConstr(\n",
        "        gp.quicksum(x[i,j] for i in range(n)) +\n",
        "        gp.quicksum(y[k,i,j] for k in range(k) for i in range(n)) == 1,\n",
        "        name=f\"objeto_{j}_asignado\"\n",
        "    )\n",
        "\n",
        "# 3. Cada caja recibe exactamente un objeto\n",
        "for j in range(n):\n",
        "    model.addConstr(\n",
        "        gp.quicksum(x[i,j] for i in range(n)) +\n",
        "        gp.quicksum(y[k,i,j] for k in range(k) for i in range(n)) == 1,\n",
        "        name=f\"caja_{j}_recibe_objeto\"\n",
        "    )\n",
        "\n",
        "# 4. Forzar valores cercanos a 0 o 1 (opcional, para evitar fracciones)\n",
        "for i in range(n):\n",
        "    for j in range(n):\n",
        "        model.addConstr(x[i,j] <= 1)\n",
        "        model.addConstr(x[i,j] >= 0)\n",
        "        for k_ in range(k):\n",
        "            model.addConstr(y[k_,i,j] <= 1)\n",
        "            model.addConstr(y[k_,i,j] >= 0)\n",
        "\n",
        "# Optimizar\n",
        "model.optimize()\n",
        "\n",
        "# Resultados\n",
        "if model.status == GRB.OPTIMAL:\n",
        "    print(\"Asignación óptima (variables continuas):\")\n",
        "    for i in range(n):\n",
        "        for j in range(n):\n",
        "            if x[i,j].X > 0.01:  # Umbral para considerar asignación\n",
        "                print(f\"Robot {i+1} → Caja {j+1} (Directo). Porcentaje: {x[i,j].X*100:.2f}%. Costo: {costo(D[i][j]):.2f}\")\n",
        "    for k_ in range(k):\n",
        "        for i in range(n):\n",
        "            for j in range(n):\n",
        "                if y[k_,i,j].X > 0.01:\n",
        "                    print(f\"Robot {i+1} → Cinta {k_+1} → Caja {j+1}. Porcentaje: {y[k_,i,j].X*100:.2f}%. Costo: {costo(D1[k_][i] + D2[k_][j]) + tarifa_cintas:.2f}\")\n",
        "    print(f\"\\nCosto total: {model.ObjVal:.2f}\")\n",
        "else:\n",
        "    print(\"No se encontró solución óptima.\")"
      ],
      "metadata": {
        "id": "0rrrvt3NeeTk"
      },
      "execution_count": null,
      "outputs": []
    }
  ]
}